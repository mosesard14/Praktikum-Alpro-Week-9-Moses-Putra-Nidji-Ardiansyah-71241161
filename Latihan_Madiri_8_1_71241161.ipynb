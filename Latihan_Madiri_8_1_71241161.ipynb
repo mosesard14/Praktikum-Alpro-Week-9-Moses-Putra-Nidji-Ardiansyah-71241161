{
  "nbformat": 4,
  "nbformat_minor": 0,
  "metadata": {
    "colab": {
      "provenance": [],
      "authorship_tag": "ABX9TyPotYCilUW4ZfDFY1uqEPhy",
      "include_colab_link": true
    },
    "kernelspec": {
      "name": "python3",
      "display_name": "Python 3"
    },
    "language_info": {
      "name": "python"
    }
  },
  "cells": [
    {
      "cell_type": "markdown",
      "metadata": {
        "id": "view-in-github",
        "colab_type": "text"
      },
      "source": [
        "<a href=\"https://colab.research.google.com/github/mosesard14/Praktikum-Alpro-Week-9-Moses-Putra-Nidji-Ardiansyah-71241161/blob/main/Latihan_Madiri_8_1_71241161.ipynb\" target=\"_parent\"><img src=\"https://colab.research.google.com/assets/colab-badge.svg\" alt=\"Open In Colab\"/></a>"
      ]
    },
    {
      "cell_type": "code",
      "execution_count": 8,
      "metadata": {
        "colab": {
          "base_uri": "https://localhost:8080/"
        },
        "id": "PCnPyseeWsnb",
        "outputId": "0a2b0f13-1c17-4c64-eb50-e070ce79df63"
      },
      "outputs": [
        {
          "output_type": "stream",
          "name": "stdout",
          "text": [
            "Masukkan kata pertama: mata\n",
            "Masukkan kata kedua: makan\n",
            "mata dan makan bukan anagram\n"
          ]
        }
      ],
      "source": [
        "def cek_anagram(kata1, kata2):\n",
        "  kata1 = ''.join(sorted(kata1.lower()))\n",
        "  kata2 = ''.join(sorted(kata2.lower()))\n",
        "  if kata1 == kata2:\n",
        "    return True\n",
        "  else:\n",
        "    return False\n",
        "\n",
        "kata1 = input(\"Masukkan kata pertama: \")\n",
        "kata2 = input(\"Masukkan kata kedua: \")\n",
        "if cek_anagram(kata1, kata2):\n",
        "  print(f\"{kata1} dan {kata2} adalah anagram\")\n",
        "else:\n",
        "  print(f\"{kata1} dan {kata2} bukan anagram\")"
      ]
    }
  ]
}