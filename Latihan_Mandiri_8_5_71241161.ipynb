{
  "nbformat": 4,
  "nbformat_minor": 0,
  "metadata": {
    "colab": {
      "provenance": [],
      "authorship_tag": "ABX9TyOa4prs8bJtLxyp2xibfS91",
      "include_colab_link": true
    },
    "kernelspec": {
      "name": "python3",
      "display_name": "Python 3"
    },
    "language_info": {
      "name": "python"
    }
  },
  "cells": [
    {
      "cell_type": "markdown",
      "metadata": {
        "id": "view-in-github",
        "colab_type": "text"
      },
      "source": [
        "<a href=\"https://colab.research.google.com/github/mosesard14/Praktikum-Alpro-Week-9-Moses-Putra-Nidji-Ardiansyah-71241161/blob/main/Latihan_Mandiri_8_5_71241161.ipynb\" target=\"_parent\"><img src=\"https://colab.research.google.com/assets/colab-badge.svg\" alt=\"Open In Colab\"/></a>"
      ]
    },
    {
      "cell_type": "code",
      "execution_count": 9,
      "metadata": {
        "colab": {
          "base_uri": "https://localhost:8080/"
        },
        "id": "7gzSRIUi9j4u",
        "outputId": "de1f40ba-0393-4d9d-a1f0-0fdf4ff713bf"
      },
      "outputs": [
        {
          "output_type": "stream",
          "name": "stdout",
          "text": [
            "17-08-1945 selisih 29108 hari\n",
            "11-11-1785 selisih 87460 hari\n",
            "08-06-1783 selisih 88347 hari\n",
            "02-05-1889 selisih 49668 hari\n"
          ]
        }
      ],
      "source": [
        "import re\n",
        "from datetime import datetime\n",
        "\n",
        "def cari_hitung_selisih(kata):\n",
        "  tanggal_awal = re.findall(r'\\d{4}-\\d{2}-\\d{2}', kata)\n",
        "  sekarang = datetime.now()\n",
        "\n",
        "  for tanggal_str in tanggal_awal:\n",
        "    tanggal_obj = datetime.strptime(tanggal_str, '%Y-%m-%d')\n",
        "    selisih = (sekarang - tanggal_obj).days\n",
        "    tanggal_format_baru = tanggal_obj.strftime('%d-%m-%Y')\n",
        "    print(f\"{tanggal_format_baru} selisih {selisih} hari\")\n",
        "\n",
        "kata = \"\"\"\n",
        "Pada tanggal 1945-08-17 Indonesia merdeka. Indonesia memiliki beberapa pahlawan\n",
        "nasional, seperti Pangeran Diponegoro (TL: 1785-11-11), Pattimura (TL: 1783-06-08) dan Ki\n",
        "Hajar Dewantara (1889-05-02).\n",
        "\"\"\"\n",
        "cari_hitung_selisih(kata)"
      ]
    }
  ]
}