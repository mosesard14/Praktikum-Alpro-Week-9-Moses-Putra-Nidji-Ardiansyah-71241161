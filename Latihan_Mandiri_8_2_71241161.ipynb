{
  "nbformat": 4,
  "nbformat_minor": 0,
  "metadata": {
    "colab": {
      "provenance": [],
      "authorship_tag": "ABX9TyN/ixqhH9wKs786pjWwixL1",
      "include_colab_link": true
    },
    "kernelspec": {
      "name": "python3",
      "display_name": "Python 3"
    },
    "language_info": {
      "name": "python"
    }
  },
  "cells": [
    {
      "cell_type": "markdown",
      "metadata": {
        "id": "view-in-github",
        "colab_type": "text"
      },
      "source": [
        "<a href=\"https://colab.research.google.com/github/mosesard14/Praktikum-Alpro-Week-9-Moses-Putra-Nidji-Ardiansyah-71241161/blob/main/Latihan_Mandiri_8_2_71241161.ipynb\" target=\"_parent\"><img src=\"https://colab.research.google.com/assets/colab-badge.svg\" alt=\"Open In Colab\"/></a>"
      ]
    },
    {
      "cell_type": "code",
      "execution_count": 5,
      "metadata": {
        "colab": {
          "base_uri": "https://localhost:8080/"
        },
        "id": "S2L2GDKccEny",
        "outputId": "65f71e93-02e7-4588-c737-8b884dc8b032"
      },
      "outputs": [
        {
          "output_type": "stream",
          "name": "stdout",
          "text": [
            "masukkan kalimat: Saya mau makan. Makan itu wajib. Mau siang atau malam saya wajib makan\n",
            "masukkan kata yang ingin dihitung: makan\n",
            "makan ada 3 buah\n"
          ]
        }
      ],
      "source": [
        "import re\n",
        "\n",
        "def jumlah_kata(kalimat, kata):\n",
        "  kalimat = re.sub(r'[^\\w\\s]', '', kalimat.lower())\n",
        "  kata_list = kalimat.split()\n",
        "  frekuensi = kata_list.count(kata.lower())\n",
        "  return frekuensi\n",
        "\n",
        "kalimat = input('masukkan kalimat: ')\n",
        "kata = input('masukkan kata yang ingin dihitung: ')\n",
        "\n",
        "frekuensi = jumlah_kata(kalimat, kata)\n",
        "print(f'{kata} ada {frekuensi} buah')"
      ]
    }
  ]
}