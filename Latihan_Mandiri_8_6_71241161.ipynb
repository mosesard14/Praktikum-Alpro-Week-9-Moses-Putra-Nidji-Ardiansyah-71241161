{
  "nbformat": 4,
  "nbformat_minor": 0,
  "metadata": {
    "colab": {
      "provenance": [],
      "authorship_tag": "ABX9TyMoChy+C+2pf3hHnDZG8szS",
      "include_colab_link": true
    },
    "kernelspec": {
      "name": "python3",
      "display_name": "Python 3"
    },
    "language_info": {
      "name": "python"
    }
  },
  "cells": [
    {
      "cell_type": "markdown",
      "metadata": {
        "id": "view-in-github",
        "colab_type": "text"
      },
      "source": [
        "<a href=\"https://colab.research.google.com/github/mosesard14/Praktikum-Alpro-Week-9-Moses-Putra-Nidji-Ardiansyah-71241161/blob/main/Latihan_Mandiri_8_6_71241161.ipynb\" target=\"_parent\"><img src=\"https://colab.research.google.com/assets/colab-badge.svg\" alt=\"Open In Colab\"/></a>"
      ]
    },
    {
      "cell_type": "code",
      "execution_count": 4,
      "metadata": {
        "colab": {
          "base_uri": "https://localhost:8080/"
        },
        "id": "qns6O-PlNV9M",
        "outputId": "f21887a2-2260-4d55-f252-7080ebf00d78"
      },
      "outputs": [
        {
          "output_type": "stream",
          "name": "stdout",
          "text": [
            "anton@mail.com username: anton , password: yN0Kxy9S\n",
            "budi@gmail.co.id username: budi , password: Eqy3Qv1u\n",
            "slamet@getnada.com username: slamet , password: hpNXQWlL\n",
            "matahari@tokopedia.com username: matahari , password: DyHyfl8e\n"
          ]
        }
      ],
      "source": [
        "import re\n",
        "import random\n",
        "import string\n",
        "\n",
        "def proses_email(teks):\n",
        "    for email in re.findall(r'[\\w\\.-]+@[\\w\\.-]+', teks):\n",
        "        username = email.split('@')[0]\n",
        "        password = ''.join(random.choice(string.ascii_letters + string.digits) for _ in range(8))\n",
        "        print(f\"{email} username: {username} , password: {password}\")\n",
        "\n",
        "teks = \"\"\"\n",
        "Berikut adalah daftar email dan nama pengguna dari mailing list:\n",
        "anton@mail.com dimiliki oleh antonius\n",
        "budi@gmail.co.id dimiliki oleh budi anwari\n",
        "slamet@getnada.com dimiliki oleh slamet slumut\n",
        "matahari@tokopedia.com dimiliki oleh toko matahari\n",
        "\"\"\"\n",
        "\n",
        "proses_email(teks)\n"
      ]
    }
  ]
}