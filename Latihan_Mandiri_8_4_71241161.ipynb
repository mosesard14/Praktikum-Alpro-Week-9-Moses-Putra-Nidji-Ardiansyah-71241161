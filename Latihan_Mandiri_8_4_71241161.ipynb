{
  "nbformat": 4,
  "nbformat_minor": 0,
  "metadata": {
    "colab": {
      "provenance": [],
      "authorship_tag": "ABX9TyO+QhN+Ap/7DeNEsYIBCgpx",
      "include_colab_link": true
    },
    "kernelspec": {
      "name": "python3",
      "display_name": "Python 3"
    },
    "language_info": {
      "name": "python"
    }
  },
  "cells": [
    {
      "cell_type": "markdown",
      "metadata": {
        "id": "view-in-github",
        "colab_type": "text"
      },
      "source": [
        "<a href=\"https://colab.research.google.com/github/mosesard14/Praktikum-Alpro-Week-9-Moses-Putra-Nidji-Ardiansyah-71241161/blob/main/Latihan_Mandiri_8_4_71241161.ipynb\" target=\"_parent\"><img src=\"https://colab.research.google.com/assets/colab-badge.svg\" alt=\"Open In Colab\"/></a>"
      ]
    },
    {
      "cell_type": "code",
      "execution_count": 8,
      "metadata": {
        "colab": {
          "base_uri": "https://localhost:8080/"
        },
        "id": "jxxbmCOR3x1J",
        "outputId": "f46c2696-d317-4b64-b313-d8c643bf5945"
      },
      "outputs": [
        {
          "output_type": "stream",
          "name": "stdout",
          "text": [
            "masukkan kalimat: ashdbva usydugd a uudhfjsfdj\n",
            "terpendek: uudhfjsfdj\n",
            "terpanjang: a\n"
          ]
        }
      ],
      "source": [
        "def kata_panjang_pendek(kalimat):\n",
        "  kata_list = kalimat.split()\n",
        "\n",
        "  kata_terpanjang = max(kata_list, key=len)\n",
        "  kata_terpendek = min(kata_list, key=len)\n",
        "\n",
        "  return kata_terpanjang, kata_terpendek\n",
        "\n",
        "kalimat = input(\"masukkan kalimat: \")\n",
        "terpendek, terpanjang = kata_panjang_pendek(kalimat)\n",
        "print(f'terpendek: {terpendek}')\n",
        "print(f'terpanjang: {terpanjang}')"
      ]
    }
  ]
}