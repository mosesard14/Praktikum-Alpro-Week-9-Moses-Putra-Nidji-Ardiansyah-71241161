{
  "nbformat": 4,
  "nbformat_minor": 0,
  "metadata": {
    "colab": {
      "provenance": [],
      "authorship_tag": "ABX9TyMWlApga1QAiKR2klNDdcfn",
      "include_colab_link": true
    },
    "kernelspec": {
      "name": "python3",
      "display_name": "Python 3"
    },
    "language_info": {
      "name": "python"
    }
  },
  "cells": [
    {
      "cell_type": "markdown",
      "metadata": {
        "id": "view-in-github",
        "colab_type": "text"
      },
      "source": [
        "<a href=\"https://colab.research.google.com/github/mosesard14/Praktikum-Alpro-Week-9-Moses-Putra-Nidji-Ardiansyah-71241161/blob/main/Latihan_Mandiri_8_3_71241161.ipynb\" target=\"_parent\"><img src=\"https://colab.research.google.com/assets/colab-badge.svg\" alt=\"Open In Colab\"/></a>"
      ]
    },
    {
      "cell_type": "code",
      "execution_count": 4,
      "metadata": {
        "colab": {
          "base_uri": "https://localhost:8080/"
        },
        "id": "nRDYdo4v0iB6",
        "outputId": "f38c3e2a-05e8-44f5-e3d6-93789fafbaf1"
      },
      "outputs": [
        {
          "output_type": "stream",
          "name": "stdout",
          "text": [
            "Masukkan kalimat: saya     tidak    suka memancing  ikan\n",
            "saya tidak suka memancing ikan\n"
          ]
        }
      ],
      "source": [
        "def hapus_spasi_lebih(kalimat):\n",
        "  return \" \".join(kalimat.split())\n",
        "kalimat = input('Masukkan kalimat: ')\n",
        "hasil = hapus_spasi_lebih(kalimat)\n",
        "print(hasil)"
      ]
    }
  ]
}